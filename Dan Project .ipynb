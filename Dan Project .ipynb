{
 "cells": [
  {
   "cell_type": "code",
   "execution_count": 6,
   "id": "31a65d4c",
   "metadata": {},
   "outputs": [],
   "source": [
    "import pandas as pd \n",
    "import numpy as np\n",
    "import seaborn as sns \n",
    "import pyforest"
   ]
  },
  {
   "cell_type": "code",
   "execution_count": 7,
   "id": "f1f1d0c9",
   "metadata": {},
   "outputs": [],
   "source": [
    "train_data = pd.read_csv(\"Data_Train.csv\")"
   ]
  },
  {
   "cell_type": "code",
   "execution_count": 8,
   "id": "c68a406b",
   "metadata": {},
   "outputs": [
    {
     "data": {
      "text/html": [
       "<div>\n",
       "<style scoped>\n",
       "    .dataframe tbody tr th:only-of-type {\n",
       "        vertical-align: middle;\n",
       "    }\n",
       "\n",
       "    .dataframe tbody tr th {\n",
       "        vertical-align: top;\n",
       "    }\n",
       "\n",
       "    .dataframe thead th {\n",
       "        text-align: right;\n",
       "    }\n",
       "</style>\n",
       "<table border=\"1\" class=\"dataframe\">\n",
       "  <thead>\n",
       "    <tr style=\"text-align: right;\">\n",
       "      <th></th>\n",
       "      <th>Market Place</th>\n",
       "      <th>Crop Variety</th>\n",
       "      <th>Producer Min</th>\n",
       "      <th>Producer Max</th>\n",
       "      <th>Wholesale Min</th>\n",
       "      <th>Wholesale Max</th>\n",
       "      <th>Retail Min</th>\n",
       "      <th>Retail Max</th>\n",
       "      <th>Volume</th>\n",
       "      <th>Collection Date</th>\n",
       "    </tr>\n",
       "  </thead>\n",
       "  <tbody>\n",
       "    <tr>\n",
       "      <th>0</th>\n",
       "      <td>Enjbara</td>\n",
       "      <td>White Teff (Quintal)</td>\n",
       "      <td>0</td>\n",
       "      <td>0.0</td>\n",
       "      <td>3200</td>\n",
       "      <td>3250</td>\n",
       "      <td>3300.0</td>\n",
       "      <td>3400</td>\n",
       "      <td>Sufficient</td>\n",
       "      <td>12/10/2019</td>\n",
       "    </tr>\n",
       "    <tr>\n",
       "      <th>1</th>\n",
       "      <td>Debretabor Segno Gebeya</td>\n",
       "      <td>White Teff (Quintal)</td>\n",
       "      <td>0</td>\n",
       "      <td>0.0</td>\n",
       "      <td>3100</td>\n",
       "      <td>3150</td>\n",
       "      <td>3200.0</td>\n",
       "      <td>3250</td>\n",
       "      <td>Under</td>\n",
       "      <td>12/10/2019</td>\n",
       "    </tr>\n",
       "    <tr>\n",
       "      <th>2</th>\n",
       "      <td>Woldia Gebeya</td>\n",
       "      <td>White Teff (Quintal)</td>\n",
       "      <td>2691</td>\n",
       "      <td>2760.0</td>\n",
       "      <td>0</td>\n",
       "      <td>0</td>\n",
       "      <td>2760.0</td>\n",
       "      <td>2829</td>\n",
       "      <td>Sufficient</td>\n",
       "      <td>12/10/2019</td>\n",
       "    </tr>\n",
       "    <tr>\n",
       "      <th>3</th>\n",
       "      <td>kombolcha kebele 03 Gebeya</td>\n",
       "      <td>White Teff (Quintal)</td>\n",
       "      <td>0</td>\n",
       "      <td>0.0</td>\n",
       "      <td>2940</td>\n",
       "      <td>3000</td>\n",
       "      <td>3100.0</td>\n",
       "      <td>3300</td>\n",
       "      <td>Sufficient</td>\n",
       "      <td>12/11/2019</td>\n",
       "    </tr>\n",
       "    <tr>\n",
       "      <th>4</th>\n",
       "      <td>Bahir Dar kebele 04</td>\n",
       "      <td>White Teff (Quintal)</td>\n",
       "      <td>0</td>\n",
       "      <td>0.0</td>\n",
       "      <td>3300</td>\n",
       "      <td>3500</td>\n",
       "      <td>3450.0</td>\n",
       "      <td>3650</td>\n",
       "      <td>Sufficient</td>\n",
       "      <td>12/12/2019</td>\n",
       "    </tr>\n",
       "  </tbody>\n",
       "</table>\n",
       "</div>"
      ],
      "text/plain": [
       "                 Market Place          Crop Variety  Producer Min   \n",
       "0                     Enjbara  White Teff (Quintal)             0  \\\n",
       "1    Debretabor Segno Gebeya   White Teff (Quintal)             0   \n",
       "2               Woldia Gebeya  White Teff (Quintal)          2691   \n",
       "3  kombolcha kebele 03 Gebeya  White Teff (Quintal)             0   \n",
       "4         Bahir Dar kebele 04  White Teff (Quintal)             0   \n",
       "\n",
       "   Producer Max  Wholesale Min  Wholesale Max  Retail Min  Retail Max   \n",
       "0           0.0           3200           3250      3300.0        3400  \\\n",
       "1           0.0           3100           3150      3200.0        3250   \n",
       "2        2760.0              0              0      2760.0        2829   \n",
       "3           0.0           2940           3000      3100.0        3300   \n",
       "4           0.0           3300           3500      3450.0        3650   \n",
       "\n",
       "       Volume Collection Date  \n",
       "0  Sufficient      12/10/2019  \n",
       "1       Under      12/10/2019  \n",
       "2  Sufficient      12/10/2019  \n",
       "3  Sufficient      12/11/2019  \n",
       "4  Sufficient      12/12/2019  "
      ]
     },
     "execution_count": 8,
     "metadata": {},
     "output_type": "execute_result"
    }
   ],
   "source": [
    "train_data.head()"
   ]
  },
  {
   "cell_type": "code",
   "execution_count": 9,
   "id": "b77fd64a",
   "metadata": {},
   "outputs": [
    {
     "name": "stdout",
     "output_type": "stream",
     "text": [
      "<class 'pandas.core.frame.DataFrame'>\n",
      "RangeIndex: 1522 entries, 0 to 1521\n",
      "Data columns (total 10 columns):\n",
      " #   Column           Non-Null Count  Dtype  \n",
      "---  ------           --------------  -----  \n",
      " 0   Market Place     1522 non-null   object \n",
      " 1   Crop Variety     1522 non-null   object \n",
      " 2   Producer Min     1522 non-null   int64  \n",
      " 3   Producer Max     1522 non-null   float64\n",
      " 4   Wholesale Min    1522 non-null   int64  \n",
      " 5   Wholesale Max    1522 non-null   int64  \n",
      " 6   Retail Min       1522 non-null   float64\n",
      " 7   Retail Max       1522 non-null   int64  \n",
      " 8   Volume           1522 non-null   object \n",
      " 9   Collection Date  1522 non-null   object \n",
      "dtypes: float64(2), int64(4), object(4)\n",
      "memory usage: 119.0+ KB\n"
     ]
    }
   ],
   "source": [
    "train_data.info()"
   ]
  },
  {
   "cell_type": "code",
   "execution_count": null,
   "id": "2669c36a",
   "metadata": {},
   "outputs": [],
   "source": []
  }
 ],
 "metadata": {
  "kernelspec": {
   "display_name": "Python 3 (ipykernel)",
   "language": "python",
   "name": "python3"
  },
  "language_info": {
   "codemirror_mode": {
    "name": "ipython",
    "version": 3
   },
   "file_extension": ".py",
   "mimetype": "text/x-python",
   "name": "python",
   "nbconvert_exporter": "python",
   "pygments_lexer": "ipython3",
   "version": "3.10.7"
  }
 },
 "nbformat": 4,
 "nbformat_minor": 5
}
